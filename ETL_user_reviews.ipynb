{
 "cells": [
  {
   "cell_type": "markdown",
   "metadata": {},
   "source": [
    "## ETL archivo user-reviews"
   ]
  },
  {
   "cell_type": "markdown",
   "metadata": {},
   "source": [
    "### Importo los modulos de pandas,gzip, matplotlib y textblob necesarios para la limpieza de datos, para descomprimir el archivo json.gz poder revisar algunas metricas iniciales a través de graficas y la creación de la columna de analisis de sentimiento"
   ]
  },
  {
   "cell_type": "code",
   "execution_count": 56,
   "metadata": {},
   "outputs": [],
   "source": [
    "import pandas as pd\n",
    "import gzip,ast\n",
    "import matplotlib.pyplot as plt\n",
    "from textblob import TextBlob"
   ]
  },
  {
   "cell_type": "markdown",
   "metadata": {},
   "source": [
    "### Realizo la extracción y descompresión del archivo user_reviews.json.gz"
   ]
  },
  {
   "cell_type": "code",
   "execution_count": 12,
   "metadata": {},
   "outputs": [],
   "source": [
    "data=[]\n",
    "with gzip.open('user_reviews.json.gz','rb') as file:\n",
    "    for line in file:\n",
    "        lineaUnicode=line.decode('utf-8')\n",
    "        data.append(lineaUnicode)"
   ]
  },
  {
   "cell_type": "markdown",
   "metadata": {},
   "source": [
    "### Creo el DataFrame con la información del archivo y verifico la creación llamado las primeras cinco filas a través del metodo .head de pandas."
   ]
  },
  {
   "cell_type": "code",
   "execution_count": 13,
   "metadata": {},
   "outputs": [
    {
     "data": {
      "text/html": [
       "<div>\n",
       "<style scoped>\n",
       "    .dataframe tbody tr th:only-of-type {\n",
       "        vertical-align: middle;\n",
       "    }\n",
       "\n",
       "    .dataframe tbody tr th {\n",
       "        vertical-align: top;\n",
       "    }\n",
       "\n",
       "    .dataframe thead th {\n",
       "        text-align: right;\n",
       "    }\n",
       "</style>\n",
       "<table border=\"1\" class=\"dataframe\">\n",
       "  <thead>\n",
       "    <tr style=\"text-align: right;\">\n",
       "      <th></th>\n",
       "      <th>0</th>\n",
       "    </tr>\n",
       "  </thead>\n",
       "  <tbody>\n",
       "    <tr>\n",
       "      <th>0</th>\n",
       "      <td>{'user_id': '76561197970982479', 'user_url': '...</td>\n",
       "    </tr>\n",
       "    <tr>\n",
       "      <th>1</th>\n",
       "      <td>{'user_id': 'js41637', 'user_url': 'http://ste...</td>\n",
       "    </tr>\n",
       "    <tr>\n",
       "      <th>2</th>\n",
       "      <td>{'user_id': 'evcentric', 'user_url': 'http://s...</td>\n",
       "    </tr>\n",
       "    <tr>\n",
       "      <th>3</th>\n",
       "      <td>{'user_id': 'doctr', 'user_url': 'http://steam...</td>\n",
       "    </tr>\n",
       "    <tr>\n",
       "      <th>4</th>\n",
       "      <td>{'user_id': 'maplemage', 'user_url': 'http://s...</td>\n",
       "    </tr>\n",
       "  </tbody>\n",
       "</table>\n",
       "</div>"
      ],
      "text/plain": [
       "                                                   0\n",
       "0  {'user_id': '76561197970982479', 'user_url': '...\n",
       "1  {'user_id': 'js41637', 'user_url': 'http://ste...\n",
       "2  {'user_id': 'evcentric', 'user_url': 'http://s...\n",
       "3  {'user_id': 'doctr', 'user_url': 'http://steam...\n",
       "4  {'user_id': 'maplemage', 'user_url': 'http://s..."
      ]
     },
     "execution_count": 13,
     "metadata": {},
     "output_type": "execute_result"
    }
   ],
   "source": [
    "df_reviews = pd.DataFrame(data)\n",
    "df_reviews.head()"
   ]
  },
  {
   "cell_type": "markdown",
   "metadata": {},
   "source": [
    "### Se observa un DataFrame con un varios diccionarios dentro de sus filas. procedo a desanidar, en donde y organizar la información en un Dataframe en donde sus claves serán sus campos y los valores la información. Pero antes debo eliminar los caracteres no validos dentro del diccionario."
   ]
  },
  {
   "cell_type": "code",
   "execution_count": 14,
   "metadata": {},
   "outputs": [],
   "source": [
    "# Elimino caracteres no validos dentro del diccionario.\n",
    "\n",
    "for i in range(len(data)):\n",
    "    data[i]=data[i].encode('utf-8','ignore').decode('utf-8')"
   ]
  },
  {
   "cell_type": "code",
   "execution_count": 15,
   "metadata": {},
   "outputs": [],
   "source": [
    "# desanido los diccionarios\n",
    "for i in range(len(data)):\n",
    "    data[i]=ast.literal_eval(data[i])"
   ]
  },
  {
   "cell_type": "code",
   "execution_count": 16,
   "metadata": {},
   "outputs": [
    {
     "data": {
      "text/html": [
       "<div>\n",
       "<style scoped>\n",
       "    .dataframe tbody tr th:only-of-type {\n",
       "        vertical-align: middle;\n",
       "    }\n",
       "\n",
       "    .dataframe tbody tr th {\n",
       "        vertical-align: top;\n",
       "    }\n",
       "\n",
       "    .dataframe thead th {\n",
       "        text-align: right;\n",
       "    }\n",
       "</style>\n",
       "<table border=\"1\" class=\"dataframe\">\n",
       "  <thead>\n",
       "    <tr style=\"text-align: right;\">\n",
       "      <th></th>\n",
       "      <th>user_id</th>\n",
       "      <th>user_url</th>\n",
       "      <th>reviews</th>\n",
       "    </tr>\n",
       "  </thead>\n",
       "  <tbody>\n",
       "    <tr>\n",
       "      <th>0</th>\n",
       "      <td>76561197970982479</td>\n",
       "      <td>http://steamcommunity.com/profiles/76561197970...</td>\n",
       "      <td>[{'funny': '', 'posted': 'Posted November 5, 2...</td>\n",
       "    </tr>\n",
       "    <tr>\n",
       "      <th>1</th>\n",
       "      <td>js41637</td>\n",
       "      <td>http://steamcommunity.com/id/js41637</td>\n",
       "      <td>[{'funny': '', 'posted': 'Posted June 24, 2014...</td>\n",
       "    </tr>\n",
       "    <tr>\n",
       "      <th>2</th>\n",
       "      <td>evcentric</td>\n",
       "      <td>http://steamcommunity.com/id/evcentric</td>\n",
       "      <td>[{'funny': '', 'posted': 'Posted February 3.',...</td>\n",
       "    </tr>\n",
       "    <tr>\n",
       "      <th>3</th>\n",
       "      <td>doctr</td>\n",
       "      <td>http://steamcommunity.com/id/doctr</td>\n",
       "      <td>[{'funny': '', 'posted': 'Posted October 14, 2...</td>\n",
       "    </tr>\n",
       "    <tr>\n",
       "      <th>4</th>\n",
       "      <td>maplemage</td>\n",
       "      <td>http://steamcommunity.com/id/maplemage</td>\n",
       "      <td>[{'funny': '3 people found this review funny',...</td>\n",
       "    </tr>\n",
       "  </tbody>\n",
       "</table>\n",
       "</div>"
      ],
      "text/plain": [
       "             user_id                                           user_url  \\\n",
       "0  76561197970982479  http://steamcommunity.com/profiles/76561197970...   \n",
       "1            js41637               http://steamcommunity.com/id/js41637   \n",
       "2          evcentric             http://steamcommunity.com/id/evcentric   \n",
       "3              doctr                 http://steamcommunity.com/id/doctr   \n",
       "4          maplemage             http://steamcommunity.com/id/maplemage   \n",
       "\n",
       "                                             reviews  \n",
       "0  [{'funny': '', 'posted': 'Posted November 5, 2...  \n",
       "1  [{'funny': '', 'posted': 'Posted June 24, 2014...  \n",
       "2  [{'funny': '', 'posted': 'Posted February 3.',...  \n",
       "3  [{'funny': '', 'posted': 'Posted October 14, 2...  \n",
       "4  [{'funny': '3 people found this review funny',...  "
      ]
     },
     "execution_count": 16,
     "metadata": {},
     "output_type": "execute_result"
    }
   ],
   "source": [
    "# Creo el DatFrame desanidado. de user_reviews, verifico llamando las primeras cinco filas\n",
    "dfUserReviews=pd.DataFrame(data)\n",
    "dfUserReviews.head()"
   ]
  },
  {
   "cell_type": "markdown",
   "metadata": {},
   "source": [
    "### Se observa dentro del campo reviews del nuevo dataframe la información contenida dentro de una lista de diccionarios. Procedo a desanidar la lista de diccionarios del campo reviews."
   ]
  },
  {
   "cell_type": "code",
   "execution_count": 17,
   "metadata": {},
   "outputs": [],
   "source": [
    "def desanidar_lista(lista):\n",
    "    if isinstance(lista,list):\n",
    "        diccionario_resultante={}\n",
    "        for diccionario in lista:\n",
    "            diccionario_resultante.update(diccionario)\n",
    "        return diccionario_resultante\n",
    "    else:\n",
    "        return lista\n",
    "    \n",
    " "
   ]
  },
  {
   "cell_type": "code",
   "execution_count": 18,
   "metadata": {},
   "outputs": [],
   "source": [
    "dfUserReviews['reviews']=dfUserReviews['reviews'].apply(desanidar_lista)"
   ]
  },
  {
   "cell_type": "markdown",
   "metadata": {},
   "source": [
    "### Creo una copia del dataframe para organizar la información desanidada del campo reviews"
   ]
  },
  {
   "cell_type": "code",
   "execution_count": 19,
   "metadata": {},
   "outputs": [],
   "source": [
    "dfCopy=dfUserReviews.copy()"
   ]
  },
  {
   "cell_type": "markdown",
   "metadata": {},
   "source": [
    "### Concateno el nuevo dataframe con el campo reviews."
   ]
  },
  {
   "cell_type": "code",
   "execution_count": 20,
   "metadata": {},
   "outputs": [
    {
     "name": "stderr",
     "output_type": "stream",
     "text": [
      "/var/folders/yv/1ws10z49371b32qc3rr7q96r0000gn/T/ipykernel_970/3710037964.py:1: FutureWarning: Returning a DataFrame from Series.apply when the supplied function returns a Series is deprecated and will be removed in a future version.\n",
      "  dfCopy = pd.concat([dfCopy.drop(['reviews'], axis=1), dfCopy['reviews'].apply(pd.Series)], axis=1)\n"
     ]
    }
   ],
   "source": [
    "dfCopy = pd.concat([dfCopy.drop(['reviews'], axis=1), dfCopy['reviews'].apply(pd.Series)], axis=1)"
   ]
  },
  {
   "cell_type": "code",
   "execution_count": 21,
   "metadata": {},
   "outputs": [
    {
     "data": {
      "text/html": [
       "<div>\n",
       "<style scoped>\n",
       "    .dataframe tbody tr th:only-of-type {\n",
       "        vertical-align: middle;\n",
       "    }\n",
       "\n",
       "    .dataframe tbody tr th {\n",
       "        vertical-align: top;\n",
       "    }\n",
       "\n",
       "    .dataframe thead th {\n",
       "        text-align: right;\n",
       "    }\n",
       "</style>\n",
       "<table border=\"1\" class=\"dataframe\">\n",
       "  <thead>\n",
       "    <tr style=\"text-align: right;\">\n",
       "      <th></th>\n",
       "      <th>user_id</th>\n",
       "      <th>user_url</th>\n",
       "      <th>funny</th>\n",
       "      <th>posted</th>\n",
       "      <th>last_edited</th>\n",
       "      <th>item_id</th>\n",
       "      <th>helpful</th>\n",
       "      <th>recommend</th>\n",
       "      <th>review</th>\n",
       "    </tr>\n",
       "  </thead>\n",
       "  <tbody>\n",
       "    <tr>\n",
       "      <th>0</th>\n",
       "      <td>76561197970982479</td>\n",
       "      <td>http://steamcommunity.com/profiles/76561197970...</td>\n",
       "      <td></td>\n",
       "      <td>Posted April 21, 2011.</td>\n",
       "      <td></td>\n",
       "      <td>43110</td>\n",
       "      <td>No ratings yet</td>\n",
       "      <td>True</td>\n",
       "      <td>Great atmosphere. The gunplay can be a bit chu...</td>\n",
       "    </tr>\n",
       "    <tr>\n",
       "      <th>1</th>\n",
       "      <td>js41637</td>\n",
       "      <td>http://steamcommunity.com/id/js41637</td>\n",
       "      <td></td>\n",
       "      <td>Posted November 29, 2013.</td>\n",
       "      <td></td>\n",
       "      <td>239030</td>\n",
       "      <td>1 of 4 people (25%) found this review helpful</td>\n",
       "      <td>True</td>\n",
       "      <td>Very fun little game to play when your bored o...</td>\n",
       "    </tr>\n",
       "    <tr>\n",
       "      <th>2</th>\n",
       "      <td>evcentric</td>\n",
       "      <td>http://steamcommunity.com/id/evcentric</td>\n",
       "      <td></td>\n",
       "      <td>Posted October 15, 2014.</td>\n",
       "      <td></td>\n",
       "      <td>224500</td>\n",
       "      <td>No ratings yet</td>\n",
       "      <td>True</td>\n",
       "      <td>Fun world builder, with plenty of option of ho...</td>\n",
       "    </tr>\n",
       "    <tr>\n",
       "      <th>3</th>\n",
       "      <td>doctr</td>\n",
       "      <td>http://steamcommunity.com/id/doctr</td>\n",
       "      <td></td>\n",
       "      <td>Posted February 23, 2012.</td>\n",
       "      <td></td>\n",
       "      <td>108710</td>\n",
       "      <td>No ratings yet</td>\n",
       "      <td>True</td>\n",
       "      <td>Alan wake is a really good game, the light eff...</td>\n",
       "    </tr>\n",
       "    <tr>\n",
       "      <th>4</th>\n",
       "      <td>maplemage</td>\n",
       "      <td>http://steamcommunity.com/id/maplemage</td>\n",
       "      <td></td>\n",
       "      <td>Posted July 11, 2013.</td>\n",
       "      <td></td>\n",
       "      <td>204300</td>\n",
       "      <td>No ratings yet</td>\n",
       "      <td>True</td>\n",
       "      <td>OH YES, THIS GAME IS THE BEST, THEY ADD STUFF ...</td>\n",
       "    </tr>\n",
       "  </tbody>\n",
       "</table>\n",
       "</div>"
      ],
      "text/plain": [
       "             user_id                                           user_url funny  \\\n",
       "0  76561197970982479  http://steamcommunity.com/profiles/76561197970...         \n",
       "1            js41637               http://steamcommunity.com/id/js41637         \n",
       "2          evcentric             http://steamcommunity.com/id/evcentric         \n",
       "3              doctr                 http://steamcommunity.com/id/doctr         \n",
       "4          maplemage             http://steamcommunity.com/id/maplemage         \n",
       "\n",
       "                      posted last_edited item_id  \\\n",
       "0     Posted April 21, 2011.               43110   \n",
       "1  Posted November 29, 2013.              239030   \n",
       "2   Posted October 15, 2014.              224500   \n",
       "3  Posted February 23, 2012.              108710   \n",
       "4      Posted July 11, 2013.              204300   \n",
       "\n",
       "                                         helpful recommend  \\\n",
       "0                                 No ratings yet      True   \n",
       "1  1 of 4 people (25%) found this review helpful      True   \n",
       "2                                 No ratings yet      True   \n",
       "3                                 No ratings yet      True   \n",
       "4                                 No ratings yet      True   \n",
       "\n",
       "                                              review  \n",
       "0  Great atmosphere. The gunplay can be a bit chu...  \n",
       "1  Very fun little game to play when your bored o...  \n",
       "2  Fun world builder, with plenty of option of ho...  \n",
       "3  Alan wake is a really good game, the light eff...  \n",
       "4  OH YES, THIS GAME IS THE BEST, THEY ADD STUFF ...  "
      ]
     },
     "execution_count": 21,
     "metadata": {},
     "output_type": "execute_result"
    }
   ],
   "source": [
    "# Reviso el nuevo DataFrame desanidado.\n",
    "dfCopy.head()"
   ]
  },
  {
   "cell_type": "code",
   "execution_count": 28,
   "metadata": {},
   "outputs": [
    {
     "data": {
      "text/html": [
       "<div>\n",
       "<style scoped>\n",
       "    .dataframe tbody tr th:only-of-type {\n",
       "        vertical-align: middle;\n",
       "    }\n",
       "\n",
       "    .dataframe tbody tr th {\n",
       "        vertical-align: top;\n",
       "    }\n",
       "\n",
       "    .dataframe thead th {\n",
       "        text-align: right;\n",
       "    }\n",
       "</style>\n",
       "<table border=\"1\" class=\"dataframe\">\n",
       "  <thead>\n",
       "    <tr style=\"text-align: right;\">\n",
       "      <th></th>\n",
       "      <th>user_id</th>\n",
       "      <th>user_url</th>\n",
       "      <th>funny</th>\n",
       "      <th>posted</th>\n",
       "      <th>last_edited</th>\n",
       "      <th>item_id</th>\n",
       "      <th>helpful</th>\n",
       "      <th>recommend</th>\n",
       "      <th>review</th>\n",
       "    </tr>\n",
       "  </thead>\n",
       "  <tbody>\n",
       "    <tr>\n",
       "      <th>25766</th>\n",
       "      <td>76561198306599751</td>\n",
       "      <td>http://steamcommunity.com/profiles/76561198306...</td>\n",
       "      <td></td>\n",
       "      <td>Posted May 31.</td>\n",
       "      <td></td>\n",
       "      <td>261030</td>\n",
       "      <td>0 of 1 people (0%) found this review helpful</td>\n",
       "      <td>True</td>\n",
       "      <td>I cried in the end its so sadding ]'; I wish l...</td>\n",
       "    </tr>\n",
       "    <tr>\n",
       "      <th>25767</th>\n",
       "      <td>Ghoustik</td>\n",
       "      <td>http://steamcommunity.com/id/Ghoustik</td>\n",
       "      <td></td>\n",
       "      <td>Posted June 17.</td>\n",
       "      <td></td>\n",
       "      <td>730</td>\n",
       "      <td>0 of 1 people (0%) found this review helpful</td>\n",
       "      <td>True</td>\n",
       "      <td>Gra naprawdę fajna.Ale jest kilka rzeczy do kt...</td>\n",
       "    </tr>\n",
       "    <tr>\n",
       "      <th>25768</th>\n",
       "      <td>76561198310819422</td>\n",
       "      <td>http://steamcommunity.com/profiles/76561198310...</td>\n",
       "      <td>1 person found this review funny</td>\n",
       "      <td>Posted June 23.</td>\n",
       "      <td></td>\n",
       "      <td>570</td>\n",
       "      <td>1 of 1 people (100%) found this review helpful</td>\n",
       "      <td>True</td>\n",
       "      <td>Well Done</td>\n",
       "    </tr>\n",
       "    <tr>\n",
       "      <th>25769</th>\n",
       "      <td>76561198312638244</td>\n",
       "      <td>http://steamcommunity.com/profiles/76561198312...</td>\n",
       "      <td></td>\n",
       "      <td>Posted July 8.</td>\n",
       "      <td></td>\n",
       "      <td>362890</td>\n",
       "      <td>No ratings yet</td>\n",
       "      <td>True</td>\n",
       "      <td>this game is a perfect remake of the original ...</td>\n",
       "    </tr>\n",
       "    <tr>\n",
       "      <th>25770</th>\n",
       "      <td>LydiaMorley</td>\n",
       "      <td>http://steamcommunity.com/id/LydiaMorley</td>\n",
       "      <td></td>\n",
       "      <td>Posted July 2.</td>\n",
       "      <td></td>\n",
       "      <td>440</td>\n",
       "      <td>No ratings yet</td>\n",
       "      <td>True</td>\n",
       "      <td>so much fun :D</td>\n",
       "    </tr>\n",
       "  </tbody>\n",
       "</table>\n",
       "</div>"
      ],
      "text/plain": [
       "                 user_id                                           user_url  \\\n",
       "25766  76561198306599751  http://steamcommunity.com/profiles/76561198306...   \n",
       "25767           Ghoustik              http://steamcommunity.com/id/Ghoustik   \n",
       "25768  76561198310819422  http://steamcommunity.com/profiles/76561198310...   \n",
       "25769  76561198312638244  http://steamcommunity.com/profiles/76561198312...   \n",
       "25770        LydiaMorley           http://steamcommunity.com/id/LydiaMorley   \n",
       "\n",
       "                                  funny           posted last_edited  item_id  \\\n",
       "25766                                     Posted May 31.               261030   \n",
       "25767                                    Posted June 17.                  730   \n",
       "25768  1 person found this review funny  Posted June 23.                  570   \n",
       "25769                                     Posted July 8.               362890   \n",
       "25770                                     Posted July 2.                  440   \n",
       "\n",
       "                                              helpful recommend  \\\n",
       "25766    0 of 1 people (0%) found this review helpful      True   \n",
       "25767    0 of 1 people (0%) found this review helpful      True   \n",
       "25768  1 of 1 people (100%) found this review helpful      True   \n",
       "25769                                  No ratings yet      True   \n",
       "25770                                  No ratings yet      True   \n",
       "\n",
       "                                                  review  \n",
       "25766  I cried in the end its so sadding ]'; I wish l...  \n",
       "25767  Gra naprawdę fajna.Ale jest kilka rzeczy do kt...  \n",
       "25768                                          Well Done  \n",
       "25769  this game is a perfect remake of the original ...  \n",
       "25770                                     so much fun :D  "
      ]
     },
     "execution_count": 28,
     "metadata": {},
     "output_type": "execute_result"
    }
   ],
   "source": [
    "# Reviso el nuevo DataFrame desanidado.\n",
    "dfCopy.tail()"
   ]
  },
  {
   "cell_type": "markdown",
   "metadata": {},
   "source": [
    "### Reviso las caracteristicas del nuevo DataFrame, con la función .info de pandas."
   ]
  },
  {
   "cell_type": "code",
   "execution_count": 22,
   "metadata": {},
   "outputs": [
    {
     "name": "stdout",
     "output_type": "stream",
     "text": [
      "<class 'pandas.core.frame.DataFrame'>\n",
      "RangeIndex: 25799 entries, 0 to 25798\n",
      "Data columns (total 9 columns):\n",
      " #   Column       Non-Null Count  Dtype \n",
      "---  ------       --------------  ----- \n",
      " 0   user_id      25799 non-null  object\n",
      " 1   user_url     25799 non-null  object\n",
      " 2   funny        25771 non-null  object\n",
      " 3   posted       25771 non-null  object\n",
      " 4   last_edited  25771 non-null  object\n",
      " 5   item_id      25771 non-null  object\n",
      " 6   helpful      25771 non-null  object\n",
      " 7   recommend    25771 non-null  object\n",
      " 8   review       25771 non-null  object\n",
      "dtypes: object(9)\n",
      "memory usage: 1.8+ MB\n"
     ]
    }
   ],
   "source": [
    "dfCopy.info()"
   ]
  },
  {
   "cell_type": "markdown",
   "metadata": {},
   "source": [
    "### Observaciones.\n",
    "### 1. hay datos faltantes se debe proceder con la eliminación.\n",
    "### 2. El campo item_id es categorico se debe transformar a numerico int64. para futuras consultas.\n",
    "### 3. Se observa que el campo funny y last_edit cuenta con strings sin información en la mayoria de sus filas. ( eliminar estos campos)\n",
    "### 4. Se observa que el campo posted es de tipo categorico es necesario realizar la transformacion a datatime para futuras consultas."
   ]
  },
  {
   "cell_type": "code",
   "execution_count": 23,
   "metadata": {},
   "outputs": [],
   "source": [
    "# Eliminado datos faltantes\n",
    "dfCopy.dropna(inplace=True)"
   ]
  },
  {
   "cell_type": "code",
   "execution_count": 24,
   "metadata": {},
   "outputs": [
    {
     "name": "stdout",
     "output_type": "stream",
     "text": [
      "RangeIndex(start=0, stop=25771, step=1)\n"
     ]
    }
   ],
   "source": [
    "# Reorganizo los indices despues de la eliminación de datos faltantes\n",
    "dfCopy.reset_index(drop=True, inplace=True)\n",
    "print(dfCopy.index)"
   ]
  },
  {
   "cell_type": "code",
   "execution_count": 25,
   "metadata": {},
   "outputs": [
    {
     "name": "stdout",
     "output_type": "stream",
     "text": [
      "<class 'pandas.core.frame.DataFrame'>\n",
      "RangeIndex: 25771 entries, 0 to 25770\n",
      "Data columns (total 9 columns):\n",
      " #   Column       Non-Null Count  Dtype \n",
      "---  ------       --------------  ----- \n",
      " 0   user_id      25771 non-null  object\n",
      " 1   user_url     25771 non-null  object\n",
      " 2   funny        25771 non-null  object\n",
      " 3   posted       25771 non-null  object\n",
      " 4   last_edited  25771 non-null  object\n",
      " 5   item_id      25771 non-null  object\n",
      " 6   helpful      25771 non-null  object\n",
      " 7   recommend    25771 non-null  object\n",
      " 8   review       25771 non-null  object\n",
      "dtypes: object(9)\n",
      "memory usage: 1.8+ MB\n"
     ]
    }
   ],
   "source": [
    "# Verificando de nuevo el dataframe\n",
    "# Se nota la reducción en cuanto al numero de filas\n",
    "# despues de la eliminación de datos faltantes, todos los campos quedaron con igual numero de registros 25771 datos no nulos.\n",
    "dfCopy.info()"
   ]
  },
  {
   "cell_type": "code",
   "execution_count": 26,
   "metadata": {},
   "outputs": [],
   "source": [
    "# Transformo el dato del campó item_id a int64.\n",
    "\n",
    "\n",
    "dfCopy['item_id'] = pd.to_numeric(dfCopy['item_id'], errors='coerce' )"
   ]
  },
  {
   "cell_type": "code",
   "execution_count": 27,
   "metadata": {},
   "outputs": [
    {
     "name": "stdout",
     "output_type": "stream",
     "text": [
      "<class 'pandas.core.frame.DataFrame'>\n",
      "RangeIndex: 25771 entries, 0 to 25770\n",
      "Data columns (total 9 columns):\n",
      " #   Column       Non-Null Count  Dtype \n",
      "---  ------       --------------  ----- \n",
      " 0   user_id      25771 non-null  object\n",
      " 1   user_url     25771 non-null  object\n",
      " 2   funny        25771 non-null  object\n",
      " 3   posted       25771 non-null  object\n",
      " 4   last_edited  25771 non-null  object\n",
      " 5   item_id      25771 non-null  int64 \n",
      " 6   helpful      25771 non-null  object\n",
      " 7   recommend    25771 non-null  object\n",
      " 8   review       25771 non-null  object\n",
      "dtypes: int64(1), object(8)\n",
      "memory usage: 1.8+ MB\n"
     ]
    }
   ],
   "source": [
    "# Verico la transformación\n",
    "\n",
    "dfCopy.info()"
   ]
  },
  {
   "cell_type": "markdown",
   "metadata": {},
   "source": [
    "## Procesamiento de Fechas en el Campo \"Posted\" y Creación de Columna \"Posted_date\" del tipo datatime.\n",
    "### pasos :\n",
    "### 1. Me Asegúro de que el campo \"posted\" sea de tipo cadena (string).\n",
    "### 2.  Realizo la Extracción del mes, el día y el año de la columna \"posted\" usando expresiones regulares.\n",
    "### 3. Convierto el mes a número (1-12) utilizando un mapeo .\n",
    "### 4. Encuentro el año más común en la columna \"posted\" utilizando el método mode(). para realizar la imputación con los campos sin año.\n",
    "### 5. Reemplazo los valores no finitos (NaN o inf) en las columnas Month, Day y Year con valores por defecto.\n",
    "### 6. Crea una columna \"posted_date\" con valores de fecha completos a partir de las columnas Year, Month y Day.\n",
    "\n"
   ]
  },
  {
   "cell_type": "code",
   "execution_count": 51,
   "metadata": {},
   "outputs": [
    {
     "data": {
      "text/html": [
       "<div>\n",
       "<style scoped>\n",
       "    .dataframe tbody tr th:only-of-type {\n",
       "        vertical-align: middle;\n",
       "    }\n",
       "\n",
       "    .dataframe tbody tr th {\n",
       "        vertical-align: top;\n",
       "    }\n",
       "\n",
       "    .dataframe thead th {\n",
       "        text-align: right;\n",
       "    }\n",
       "</style>\n",
       "<table border=\"1\" class=\"dataframe\">\n",
       "  <thead>\n",
       "    <tr style=\"text-align: right;\">\n",
       "      <th></th>\n",
       "      <th>user_id</th>\n",
       "      <th>user_url</th>\n",
       "      <th>funny</th>\n",
       "      <th>posted</th>\n",
       "      <th>last_edited</th>\n",
       "      <th>item_id</th>\n",
       "      <th>helpful</th>\n",
       "      <th>recommend</th>\n",
       "      <th>review</th>\n",
       "      <th>Month</th>\n",
       "      <th>Day</th>\n",
       "      <th>Year</th>\n",
       "      <th>posted_date</th>\n",
       "    </tr>\n",
       "  </thead>\n",
       "  <tbody>\n",
       "    <tr>\n",
       "      <th>0</th>\n",
       "      <td>76561197970982479</td>\n",
       "      <td>http://steamcommunity.com/profiles/76561197970...</td>\n",
       "      <td></td>\n",
       "      <td>2011-04-21</td>\n",
       "      <td></td>\n",
       "      <td>43110</td>\n",
       "      <td>No ratings yet</td>\n",
       "      <td>True</td>\n",
       "      <td>Great atmosphere. The gunplay can be a bit chu...</td>\n",
       "      <td>1</td>\n",
       "      <td>1</td>\n",
       "      <td>2011</td>\n",
       "      <td>2011-01-01</td>\n",
       "    </tr>\n",
       "    <tr>\n",
       "      <th>1</th>\n",
       "      <td>js41637</td>\n",
       "      <td>http://steamcommunity.com/id/js41637</td>\n",
       "      <td></td>\n",
       "      <td>2013-11-29</td>\n",
       "      <td></td>\n",
       "      <td>239030</td>\n",
       "      <td>1 of 4 people (25%) found this review helpful</td>\n",
       "      <td>True</td>\n",
       "      <td>Very fun little game to play when your bored o...</td>\n",
       "      <td>1</td>\n",
       "      <td>1</td>\n",
       "      <td>2013</td>\n",
       "      <td>2013-01-01</td>\n",
       "    </tr>\n",
       "    <tr>\n",
       "      <th>2</th>\n",
       "      <td>evcentric</td>\n",
       "      <td>http://steamcommunity.com/id/evcentric</td>\n",
       "      <td></td>\n",
       "      <td>2014-10-15</td>\n",
       "      <td></td>\n",
       "      <td>224500</td>\n",
       "      <td>No ratings yet</td>\n",
       "      <td>True</td>\n",
       "      <td>Fun world builder, with plenty of option of ho...</td>\n",
       "      <td>1</td>\n",
       "      <td>1</td>\n",
       "      <td>2014</td>\n",
       "      <td>2014-01-01</td>\n",
       "    </tr>\n",
       "    <tr>\n",
       "      <th>3</th>\n",
       "      <td>doctr</td>\n",
       "      <td>http://steamcommunity.com/id/doctr</td>\n",
       "      <td></td>\n",
       "      <td>2012-02-23</td>\n",
       "      <td></td>\n",
       "      <td>108710</td>\n",
       "      <td>No ratings yet</td>\n",
       "      <td>True</td>\n",
       "      <td>Alan wake is a really good game, the light eff...</td>\n",
       "      <td>1</td>\n",
       "      <td>1</td>\n",
       "      <td>2012</td>\n",
       "      <td>2012-01-01</td>\n",
       "    </tr>\n",
       "    <tr>\n",
       "      <th>4</th>\n",
       "      <td>maplemage</td>\n",
       "      <td>http://steamcommunity.com/id/maplemage</td>\n",
       "      <td></td>\n",
       "      <td>2013-07-11</td>\n",
       "      <td></td>\n",
       "      <td>204300</td>\n",
       "      <td>No ratings yet</td>\n",
       "      <td>True</td>\n",
       "      <td>OH YES, THIS GAME IS THE BEST, THEY ADD STUFF ...</td>\n",
       "      <td>1</td>\n",
       "      <td>1</td>\n",
       "      <td>2013</td>\n",
       "      <td>2013-01-01</td>\n",
       "    </tr>\n",
       "  </tbody>\n",
       "</table>\n",
       "</div>"
      ],
      "text/plain": [
       "             user_id                                           user_url funny  \\\n",
       "0  76561197970982479  http://steamcommunity.com/profiles/76561197970...         \n",
       "1            js41637               http://steamcommunity.com/id/js41637         \n",
       "2          evcentric             http://steamcommunity.com/id/evcentric         \n",
       "3              doctr                 http://steamcommunity.com/id/doctr         \n",
       "4          maplemage             http://steamcommunity.com/id/maplemage         \n",
       "\n",
       "       posted last_edited  item_id  \\\n",
       "0  2011-04-21                43110   \n",
       "1  2013-11-29               239030   \n",
       "2  2014-10-15               224500   \n",
       "3  2012-02-23               108710   \n",
       "4  2013-07-11               204300   \n",
       "\n",
       "                                         helpful recommend  \\\n",
       "0                                 No ratings yet      True   \n",
       "1  1 of 4 people (25%) found this review helpful      True   \n",
       "2                                 No ratings yet      True   \n",
       "3                                 No ratings yet      True   \n",
       "4                                 No ratings yet      True   \n",
       "\n",
       "                                              review  Month  Day  Year  \\\n",
       "0  Great atmosphere. The gunplay can be a bit chu...      1    1  2011   \n",
       "1  Very fun little game to play when your bored o...      1    1  2013   \n",
       "2  Fun world builder, with plenty of option of ho...      1    1  2014   \n",
       "3  Alan wake is a really good game, the light eff...      1    1  2012   \n",
       "4  OH YES, THIS GAME IS THE BEST, THEY ADD STUFF ...      1    1  2013   \n",
       "\n",
       "  posted_date  \n",
       "0  2011-01-01  \n",
       "1  2013-01-01  \n",
       "2  2014-01-01  \n",
       "3  2012-01-01  \n",
       "4  2013-01-01  "
      ]
     },
     "execution_count": 51,
     "metadata": {},
     "output_type": "execute_result"
    }
   ],
   "source": [
    "\n",
    "\n",
    "# paso 1.\n",
    "dfCopy['posted'] = dfCopy['posted'].astype(str)\n",
    "\n",
    "# paso 2.\n",
    "dfCopy['Month'] = dfCopy['posted'].str.extract(r'Posted (\\w+) \\d{1,2}\\.')[0]\n",
    "dfCopy['Day'] = dfCopy['posted'].str.extract(r'Posted \\w+ (\\d{1,2})\\.')[0]\n",
    "\n",
    "# paso 3.\n",
    "months = {\n",
    "    'January': 1, 'February': 2, 'March': 3, 'April': 4,\n",
    "    'May': 5, 'June': 6, 'July': 7, 'August': 8,\n",
    "    'September': 9, 'October': 10, 'November': 11, 'December': 12\n",
    "}\n",
    "dfCopy['Month'] = dfCopy['Month'].map(months)\n",
    "\n",
    "# paso 4.\n",
    "most_common_year = dfCopy['posted'].str.extract(r'(\\d{4})')[0].mode()[0]\n",
    "\n",
    "# paso 5.\n",
    "default_month = 1\n",
    "default_day = 1\n",
    "dfCopy['Month'] = dfCopy['Month'].fillna(default_month).astype(int)\n",
    "dfCopy['Day'] = dfCopy['Day'].fillna(default_day).astype(int)\n",
    "dfCopy['Year'] = dfCopy['posted'].str.extract(r'(\\d{4})')[0].fillna(most_common_year).astype(int)\n",
    "\n",
    "# paso 6.\n",
    "dfCopy['posted_date'] = pd.to_datetime(dfCopy[['Year', 'Month', 'Day']])\n",
    "\n",
    "\n",
    "dfCopy.head()\n",
    " "
   ]
  },
  {
   "cell_type": "markdown",
   "metadata": {},
   "source": [
    "### Reviso la caracteristicas de nuevo del dataFrame despues de la creación del nuevo campo posted_date.\n",
    "### se observa mas campos con la misma información day,year,month y el campo original posted procedo con la eliminación de estos campos mas los campos funny y last_edit"
   ]
  },
  {
   "cell_type": "code",
   "execution_count": 52,
   "metadata": {},
   "outputs": [
    {
     "name": "stdout",
     "output_type": "stream",
     "text": [
      "<class 'pandas.core.frame.DataFrame'>\n",
      "RangeIndex: 25771 entries, 0 to 25770\n",
      "Data columns (total 13 columns):\n",
      " #   Column       Non-Null Count  Dtype         \n",
      "---  ------       --------------  -----         \n",
      " 0   user_id      25771 non-null  object        \n",
      " 1   user_url     25771 non-null  object        \n",
      " 2   funny        25771 non-null  object        \n",
      " 3   posted       25771 non-null  object        \n",
      " 4   last_edited  25771 non-null  object        \n",
      " 5   item_id      25771 non-null  int64         \n",
      " 6   helpful      25771 non-null  object        \n",
      " 7   recommend    25771 non-null  object        \n",
      " 8   review       25771 non-null  object        \n",
      " 9   Month        25771 non-null  int64         \n",
      " 10  Day          25771 non-null  int64         \n",
      " 11  Year         25771 non-null  int64         \n",
      " 12  posted_date  25771 non-null  datetime64[ns]\n",
      "dtypes: datetime64[ns](1), int64(4), object(8)\n",
      "memory usage: 2.6+ MB\n"
     ]
    }
   ],
   "source": [
    "dfCopy.info()"
   ]
  },
  {
   "cell_type": "code",
   "execution_count": 53,
   "metadata": {},
   "outputs": [
    {
     "data": {
      "text/html": [
       "<div>\n",
       "<style scoped>\n",
       "    .dataframe tbody tr th:only-of-type {\n",
       "        vertical-align: middle;\n",
       "    }\n",
       "\n",
       "    .dataframe tbody tr th {\n",
       "        vertical-align: top;\n",
       "    }\n",
       "\n",
       "    .dataframe thead th {\n",
       "        text-align: right;\n",
       "    }\n",
       "</style>\n",
       "<table border=\"1\" class=\"dataframe\">\n",
       "  <thead>\n",
       "    <tr style=\"text-align: right;\">\n",
       "      <th></th>\n",
       "      <th>user_id</th>\n",
       "      <th>user_url</th>\n",
       "      <th>item_id</th>\n",
       "      <th>helpful</th>\n",
       "      <th>recommend</th>\n",
       "      <th>review</th>\n",
       "      <th>posted_date</th>\n",
       "    </tr>\n",
       "  </thead>\n",
       "  <tbody>\n",
       "    <tr>\n",
       "      <th>0</th>\n",
       "      <td>76561197970982479</td>\n",
       "      <td>http://steamcommunity.com/profiles/76561197970...</td>\n",
       "      <td>43110</td>\n",
       "      <td>No ratings yet</td>\n",
       "      <td>True</td>\n",
       "      <td>Great atmosphere. The gunplay can be a bit chu...</td>\n",
       "      <td>2011-01-01</td>\n",
       "    </tr>\n",
       "    <tr>\n",
       "      <th>1</th>\n",
       "      <td>js41637</td>\n",
       "      <td>http://steamcommunity.com/id/js41637</td>\n",
       "      <td>239030</td>\n",
       "      <td>1 of 4 people (25%) found this review helpful</td>\n",
       "      <td>True</td>\n",
       "      <td>Very fun little game to play when your bored o...</td>\n",
       "      <td>2013-01-01</td>\n",
       "    </tr>\n",
       "    <tr>\n",
       "      <th>2</th>\n",
       "      <td>evcentric</td>\n",
       "      <td>http://steamcommunity.com/id/evcentric</td>\n",
       "      <td>224500</td>\n",
       "      <td>No ratings yet</td>\n",
       "      <td>True</td>\n",
       "      <td>Fun world builder, with plenty of option of ho...</td>\n",
       "      <td>2014-01-01</td>\n",
       "    </tr>\n",
       "    <tr>\n",
       "      <th>3</th>\n",
       "      <td>doctr</td>\n",
       "      <td>http://steamcommunity.com/id/doctr</td>\n",
       "      <td>108710</td>\n",
       "      <td>No ratings yet</td>\n",
       "      <td>True</td>\n",
       "      <td>Alan wake is a really good game, the light eff...</td>\n",
       "      <td>2012-01-01</td>\n",
       "    </tr>\n",
       "    <tr>\n",
       "      <th>4</th>\n",
       "      <td>maplemage</td>\n",
       "      <td>http://steamcommunity.com/id/maplemage</td>\n",
       "      <td>204300</td>\n",
       "      <td>No ratings yet</td>\n",
       "      <td>True</td>\n",
       "      <td>OH YES, THIS GAME IS THE BEST, THEY ADD STUFF ...</td>\n",
       "      <td>2013-01-01</td>\n",
       "    </tr>\n",
       "  </tbody>\n",
       "</table>\n",
       "</div>"
      ],
      "text/plain": [
       "             user_id                                           user_url  \\\n",
       "0  76561197970982479  http://steamcommunity.com/profiles/76561197970...   \n",
       "1            js41637               http://steamcommunity.com/id/js41637   \n",
       "2          evcentric             http://steamcommunity.com/id/evcentric   \n",
       "3              doctr                 http://steamcommunity.com/id/doctr   \n",
       "4          maplemage             http://steamcommunity.com/id/maplemage   \n",
       "\n",
       "   item_id                                        helpful recommend  \\\n",
       "0    43110                                 No ratings yet      True   \n",
       "1   239030  1 of 4 people (25%) found this review helpful      True   \n",
       "2   224500                                 No ratings yet      True   \n",
       "3   108710                                 No ratings yet      True   \n",
       "4   204300                                 No ratings yet      True   \n",
       "\n",
       "                                              review posted_date  \n",
       "0  Great atmosphere. The gunplay can be a bit chu...  2011-01-01  \n",
       "1  Very fun little game to play when your bored o...  2013-01-01  \n",
       "2  Fun world builder, with plenty of option of ho...  2014-01-01  \n",
       "3  Alan wake is a really good game, the light eff...  2012-01-01  \n",
       "4  OH YES, THIS GAME IS THE BEST, THEY ADD STUFF ...  2013-01-01  "
      ]
     },
     "execution_count": 53,
     "metadata": {},
     "output_type": "execute_result"
    }
   ],
   "source": [
    "# Elimino las columnas . Nota ' no considero necesario para el modelo ni las funciones los campos funny y last_edit\n",
    "dfCopy = dfCopy.drop(columns=['Month', 'Day', 'Year', 'posted','funny','last_edited'])\n",
    "\n",
    "dfCopy.head()\n"
   ]
  },
  {
   "cell_type": "code",
   "execution_count": 54,
   "metadata": {},
   "outputs": [
    {
     "data": {
      "text/html": [
       "<div>\n",
       "<style scoped>\n",
       "    .dataframe tbody tr th:only-of-type {\n",
       "        vertical-align: middle;\n",
       "    }\n",
       "\n",
       "    .dataframe tbody tr th {\n",
       "        vertical-align: top;\n",
       "    }\n",
       "\n",
       "    .dataframe thead th {\n",
       "        text-align: right;\n",
       "    }\n",
       "</style>\n",
       "<table border=\"1\" class=\"dataframe\">\n",
       "  <thead>\n",
       "    <tr style=\"text-align: right;\">\n",
       "      <th></th>\n",
       "      <th>user_id</th>\n",
       "      <th>user_url</th>\n",
       "      <th>item_id</th>\n",
       "      <th>helpful</th>\n",
       "      <th>recommend</th>\n",
       "      <th>review</th>\n",
       "      <th>posted_date</th>\n",
       "    </tr>\n",
       "  </thead>\n",
       "  <tbody>\n",
       "    <tr>\n",
       "      <th>25766</th>\n",
       "      <td>76561198306599751</td>\n",
       "      <td>http://steamcommunity.com/profiles/76561198306...</td>\n",
       "      <td>261030</td>\n",
       "      <td>0 of 1 people (0%) found this review helpful</td>\n",
       "      <td>True</td>\n",
       "      <td>I cried in the end its so sadding ]'; I wish l...</td>\n",
       "      <td>2014-01-01</td>\n",
       "    </tr>\n",
       "    <tr>\n",
       "      <th>25767</th>\n",
       "      <td>Ghoustik</td>\n",
       "      <td>http://steamcommunity.com/id/Ghoustik</td>\n",
       "      <td>730</td>\n",
       "      <td>0 of 1 people (0%) found this review helpful</td>\n",
       "      <td>True</td>\n",
       "      <td>Gra naprawdę fajna.Ale jest kilka rzeczy do kt...</td>\n",
       "      <td>2014-01-01</td>\n",
       "    </tr>\n",
       "    <tr>\n",
       "      <th>25768</th>\n",
       "      <td>76561198310819422</td>\n",
       "      <td>http://steamcommunity.com/profiles/76561198310...</td>\n",
       "      <td>570</td>\n",
       "      <td>1 of 1 people (100%) found this review helpful</td>\n",
       "      <td>True</td>\n",
       "      <td>Well Done</td>\n",
       "      <td>2014-01-01</td>\n",
       "    </tr>\n",
       "    <tr>\n",
       "      <th>25769</th>\n",
       "      <td>76561198312638244</td>\n",
       "      <td>http://steamcommunity.com/profiles/76561198312...</td>\n",
       "      <td>362890</td>\n",
       "      <td>No ratings yet</td>\n",
       "      <td>True</td>\n",
       "      <td>this game is a perfect remake of the original ...</td>\n",
       "      <td>2014-01-01</td>\n",
       "    </tr>\n",
       "    <tr>\n",
       "      <th>25770</th>\n",
       "      <td>LydiaMorley</td>\n",
       "      <td>http://steamcommunity.com/id/LydiaMorley</td>\n",
       "      <td>440</td>\n",
       "      <td>No ratings yet</td>\n",
       "      <td>True</td>\n",
       "      <td>so much fun :D</td>\n",
       "      <td>2014-01-01</td>\n",
       "    </tr>\n",
       "  </tbody>\n",
       "</table>\n",
       "</div>"
      ],
      "text/plain": [
       "                 user_id                                           user_url  \\\n",
       "25766  76561198306599751  http://steamcommunity.com/profiles/76561198306...   \n",
       "25767           Ghoustik              http://steamcommunity.com/id/Ghoustik   \n",
       "25768  76561198310819422  http://steamcommunity.com/profiles/76561198310...   \n",
       "25769  76561198312638244  http://steamcommunity.com/profiles/76561198312...   \n",
       "25770        LydiaMorley           http://steamcommunity.com/id/LydiaMorley   \n",
       "\n",
       "       item_id                                         helpful recommend  \\\n",
       "25766   261030    0 of 1 people (0%) found this review helpful      True   \n",
       "25767      730    0 of 1 people (0%) found this review helpful      True   \n",
       "25768      570  1 of 1 people (100%) found this review helpful      True   \n",
       "25769   362890                                  No ratings yet      True   \n",
       "25770      440                                  No ratings yet      True   \n",
       "\n",
       "                                                  review posted_date  \n",
       "25766  I cried in the end its so sadding ]'; I wish l...  2014-01-01  \n",
       "25767  Gra naprawdę fajna.Ale jest kilka rzeczy do kt...  2014-01-01  \n",
       "25768                                          Well Done  2014-01-01  \n",
       "25769  this game is a perfect remake of the original ...  2014-01-01  \n",
       "25770                                     so much fun :D  2014-01-01  "
      ]
     },
     "execution_count": 54,
     "metadata": {},
     "output_type": "execute_result"
    }
   ],
   "source": [
    "dfCopy.tail()"
   ]
  },
  {
   "cell_type": "code",
   "execution_count": 55,
   "metadata": {},
   "outputs": [
    {
     "name": "stdout",
     "output_type": "stream",
     "text": [
      "<class 'pandas.core.frame.DataFrame'>\n",
      "RangeIndex: 25771 entries, 0 to 25770\n",
      "Data columns (total 7 columns):\n",
      " #   Column       Non-Null Count  Dtype         \n",
      "---  ------       --------------  -----         \n",
      " 0   user_id      25771 non-null  object        \n",
      " 1   user_url     25771 non-null  object        \n",
      " 2   item_id      25771 non-null  int64         \n",
      " 3   helpful      25771 non-null  object        \n",
      " 4   recommend    25771 non-null  object        \n",
      " 5   review       25771 non-null  object        \n",
      " 6   posted_date  25771 non-null  datetime64[ns]\n",
      "dtypes: datetime64[ns](1), int64(1), object(5)\n",
      "memory usage: 1.4+ MB\n"
     ]
    }
   ],
   "source": [
    "dfCopy.info()"
   ]
  },
  {
   "cell_type": "markdown",
   "metadata": {},
   "source": [
    "### Creación de columna de analisis de sentimiento"
   ]
  },
  {
   "cell_type": "code",
   "execution_count": 58,
   "metadata": {},
   "outputs": [
    {
     "data": {
      "text/html": [
       "<div>\n",
       "<style scoped>\n",
       "    .dataframe tbody tr th:only-of-type {\n",
       "        vertical-align: middle;\n",
       "    }\n",
       "\n",
       "    .dataframe tbody tr th {\n",
       "        vertical-align: top;\n",
       "    }\n",
       "\n",
       "    .dataframe thead th {\n",
       "        text-align: right;\n",
       "    }\n",
       "</style>\n",
       "<table border=\"1\" class=\"dataframe\">\n",
       "  <thead>\n",
       "    <tr style=\"text-align: right;\">\n",
       "      <th></th>\n",
       "      <th>user_id</th>\n",
       "      <th>user_url</th>\n",
       "      <th>item_id</th>\n",
       "      <th>helpful</th>\n",
       "      <th>recommend</th>\n",
       "      <th>review</th>\n",
       "      <th>posted_date</th>\n",
       "      <th>sentiment_analysis</th>\n",
       "    </tr>\n",
       "  </thead>\n",
       "  <tbody>\n",
       "    <tr>\n",
       "      <th>0</th>\n",
       "      <td>76561197970982479</td>\n",
       "      <td>http://steamcommunity.com/profiles/76561197970...</td>\n",
       "      <td>43110</td>\n",
       "      <td>No ratings yet</td>\n",
       "      <td>True</td>\n",
       "      <td>Great atmosphere. The gunplay can be a bit chu...</td>\n",
       "      <td>2011-01-01</td>\n",
       "      <td>2</td>\n",
       "    </tr>\n",
       "    <tr>\n",
       "      <th>1</th>\n",
       "      <td>js41637</td>\n",
       "      <td>http://steamcommunity.com/id/js41637</td>\n",
       "      <td>239030</td>\n",
       "      <td>1 of 4 people (25%) found this review helpful</td>\n",
       "      <td>True</td>\n",
       "      <td>Very fun little game to play when your bored o...</td>\n",
       "      <td>2013-01-01</td>\n",
       "      <td>0</td>\n",
       "    </tr>\n",
       "    <tr>\n",
       "      <th>2</th>\n",
       "      <td>evcentric</td>\n",
       "      <td>http://steamcommunity.com/id/evcentric</td>\n",
       "      <td>224500</td>\n",
       "      <td>No ratings yet</td>\n",
       "      <td>True</td>\n",
       "      <td>Fun world builder, with plenty of option of ho...</td>\n",
       "      <td>2014-01-01</td>\n",
       "      <td>2</td>\n",
       "    </tr>\n",
       "    <tr>\n",
       "      <th>3</th>\n",
       "      <td>doctr</td>\n",
       "      <td>http://steamcommunity.com/id/doctr</td>\n",
       "      <td>108710</td>\n",
       "      <td>No ratings yet</td>\n",
       "      <td>True</td>\n",
       "      <td>Alan wake is a really good game, the light eff...</td>\n",
       "      <td>2012-01-01</td>\n",
       "      <td>2</td>\n",
       "    </tr>\n",
       "    <tr>\n",
       "      <th>4</th>\n",
       "      <td>maplemage</td>\n",
       "      <td>http://steamcommunity.com/id/maplemage</td>\n",
       "      <td>204300</td>\n",
       "      <td>No ratings yet</td>\n",
       "      <td>True</td>\n",
       "      <td>OH YES, THIS GAME IS THE BEST, THEY ADD STUFF ...</td>\n",
       "      <td>2013-01-01</td>\n",
       "      <td>2</td>\n",
       "    </tr>\n",
       "  </tbody>\n",
       "</table>\n",
       "</div>"
      ],
      "text/plain": [
       "             user_id                                           user_url  \\\n",
       "0  76561197970982479  http://steamcommunity.com/profiles/76561197970...   \n",
       "1            js41637               http://steamcommunity.com/id/js41637   \n",
       "2          evcentric             http://steamcommunity.com/id/evcentric   \n",
       "3              doctr                 http://steamcommunity.com/id/doctr   \n",
       "4          maplemage             http://steamcommunity.com/id/maplemage   \n",
       "\n",
       "   item_id                                        helpful recommend  \\\n",
       "0    43110                                 No ratings yet      True   \n",
       "1   239030  1 of 4 people (25%) found this review helpful      True   \n",
       "2   224500                                 No ratings yet      True   \n",
       "3   108710                                 No ratings yet      True   \n",
       "4   204300                                 No ratings yet      True   \n",
       "\n",
       "                                              review posted_date  \\\n",
       "0  Great atmosphere. The gunplay can be a bit chu...  2011-01-01   \n",
       "1  Very fun little game to play when your bored o...  2013-01-01   \n",
       "2  Fun world builder, with plenty of option of ho...  2014-01-01   \n",
       "3  Alan wake is a really good game, the light eff...  2012-01-01   \n",
       "4  OH YES, THIS GAME IS THE BEST, THEY ADD STUFF ...  2013-01-01   \n",
       "\n",
       "   sentiment_analysis  \n",
       "0                   2  \n",
       "1                   0  \n",
       "2                   2  \n",
       "3                   2  \n",
       "4                   2  "
      ]
     },
     "execution_count": 58,
     "metadata": {},
     "output_type": "execute_result"
    }
   ],
   "source": [
    "\n",
    "\n",
    "# Defino una función para realizar el análisis de sentimiento\n",
    "def analyze_sentiment(text):\n",
    "    if pd.isna(text):\n",
    "        return 1  # Valor predeterminado si no hay reseña escrita\n",
    "    analysis = TextBlob(text)\n",
    "    sentiment = analysis.sentiment.polarity\n",
    "    if sentiment < 0:\n",
    "        return 0  # Malo\n",
    "    elif sentiment == 0:\n",
    "        return 1  # Neutral\n",
    "    else:\n",
    "        return 2  # Positivo\n",
    "\n",
    "# Aplico la función para crear la columna 'sentiment_analysis'\n",
    "dfCopy['sentiment_analysis'] = dfCopy['review'].apply(analyze_sentiment)\n",
    "\n",
    "\n",
    "dfCopy.head()\n"
   ]
  },
  {
   "cell_type": "code",
   "execution_count": 65,
   "metadata": {},
   "outputs": [
    {
     "name": "stdout",
     "output_type": "stream",
     "text": [
      "<class 'pandas.core.frame.DataFrame'>\n",
      "RangeIndex: 25771 entries, 0 to 25770\n",
      "Data columns (total 7 columns):\n",
      " #   Column              Non-Null Count  Dtype         \n",
      "---  ------              --------------  -----         \n",
      " 0   user_id             25771 non-null  object        \n",
      " 1   user_url            25771 non-null  object        \n",
      " 2   item_id             25771 non-null  int64         \n",
      " 3   helpful             25771 non-null  object        \n",
      " 4   recommend           25771 non-null  object        \n",
      " 5   posted_date         25771 non-null  datetime64[ns]\n",
      " 6   sentiment_analysis  25771 non-null  int64         \n",
      "dtypes: datetime64[ns](1), int64(2), object(4)\n",
      "memory usage: 1.4+ MB\n"
     ]
    }
   ],
   "source": [
    "dfCopy.info()"
   ]
  },
  {
   "cell_type": "markdown",
   "metadata": {},
   "source": [
    "### Transformo el campo recommend a tipo boleano, pensado el los modelos de Maching Learning"
   ]
  },
  {
   "cell_type": "code",
   "execution_count": 70,
   "metadata": {},
   "outputs": [
    {
     "name": "stdout",
     "output_type": "stream",
     "text": [
      "<class 'pandas.core.frame.DataFrame'>\n",
      "RangeIndex: 25771 entries, 0 to 25770\n",
      "Data columns (total 7 columns):\n",
      " #   Column              Non-Null Count  Dtype         \n",
      "---  ------              --------------  -----         \n",
      " 0   user_id             25771 non-null  object        \n",
      " 1   user_url            25771 non-null  object        \n",
      " 2   item_id             25771 non-null  int64         \n",
      " 3   helpful             25771 non-null  object        \n",
      " 4   recommend           25771 non-null  bool          \n",
      " 5   posted_date         25771 non-null  datetime64[ns]\n",
      " 6   sentiment_analysis  25771 non-null  int64         \n",
      "dtypes: bool(1), datetime64[ns](1), int64(2), object(3)\n",
      "memory usage: 1.2+ MB\n"
     ]
    }
   ],
   "source": [
    "\n",
    "\n",
    "# Creo un diccionario de mapeo para convertir las categorías en valores booleanos\n",
    "mapping = {\"Recommended\": True, \"Not Recommended\": False}\n",
    "\n",
    "# Uso el método replace para convertir las categorías en valores booleanos\n",
    "dfCopy['recommend'] = dfCopy['recommend'].replace(mapping)\n",
    "\n",
    "\n",
    "dfCopy.info()\n"
   ]
  },
  {
   "cell_type": "markdown",
   "metadata": {},
   "source": [
    "### Testeo con una grafica los datos despues del ETL, para observar que realice las consultas sin ningun problema.\n",
    "### Muestro el año con mayores recomendaciones positivas, a través de un grafico de barras."
   ]
  },
  {
   "cell_type": "code",
   "execution_count": 72,
   "metadata": {},
   "outputs": [
    {
     "name": "stderr",
     "output_type": "stream",
     "text": [
      "/var/folders/yv/1ws10z49371b32qc3rr7q96r0000gn/T/ipykernel_970/1563814318.py:5: SettingWithCopyWarning: \n",
      "A value is trying to be set on a copy of a slice from a DataFrame.\n",
      "Try using .loc[row_indexer,col_indexer] = value instead\n",
      "\n",
      "See the caveats in the documentation: https://pandas.pydata.org/pandas-docs/stable/user_guide/indexing.html#returning-a-view-versus-a-copy\n",
      "  positivas['year'] = positivas['posted_date'].dt.year\n"
     ]
    },
    {
     "data": {
      "image/png": "[encoded data removed]",
      "text/plain": [
       "<Figure size 1000x600 with 1 Axes>"
      ]
     },
     "metadata": {},
     "output_type": "display_data"
    }
   ],
   "source": [
    "\n",
    "\n",
    "# Filtro las recomendaciones positivas (sentiment_analysis == 2)\n",
    "positivas = dfCopy[dfCopy['sentiment_analysis'] == 2]\n",
    "\n",
    "# Extraigo el año de la columna 'posted_date'\n",
    "positivas['year'] = positivas['posted_date'].dt.year\n",
    "\n",
    "# Agrupo por año y cuento las recomendaciones positivas\n",
    "recomendaciones_por_año = positivas['year'].value_counts().sort_index()\n",
    "\n",
    "# Graficar los resultados\n",
    "plt.figure(figsize=(10, 6))\n",
    "plt.bar(recomendaciones_por_año.index, recomendaciones_por_año.values)\n",
    "plt.xlabel('Año')\n",
    "plt.ylabel('Recomendaciones Positivas')\n",
    "plt.title('Recomendaciones Positivas por Año')\n",
    "plt.show()\n"
   ]
  },
  {
   "cell_type": "code",
   "execution_count": 73,
   "metadata": {},
   "outputs": [],
   "source": [
    "# Especifico la ruta y el nombre del archivo Parquet en la carpeta del proyecto\n",
    "archivo_parquet = \"user_reviews.parquet\"\n",
    "\n",
    "# Guardo el DataFrame en un archivo Parquet en la carpeta del proyecto\n",
    "dfCopy.to_parquet(archivo_parquet, index=False)"
   ]
  }
 ],
 "metadata": {
  "kernelspec": {
   "display_name": "Python 3",
   "language": "python",
   "name": "python3"
  },
  "language_info": {
   "codemirror_mode": {
    "name": "ipython",
    "version": 3
   },
   "file_extension": ".py",
   "mimetype": "text/x-python",
   "name": "python",
   "nbconvert_exporter": "python",
   "pygments_lexer": "ipython3",
   "version": "3.9.6"
  }
 },
 "nbformat": 4,
 "nbformat_minor": 2
}
